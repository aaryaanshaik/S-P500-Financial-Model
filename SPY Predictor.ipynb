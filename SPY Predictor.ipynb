{
 "cells": [
  {
   "cell_type": "code",
   "execution_count": 1,
   "id": "0a4b519d",
   "metadata": {},
   "outputs": [],
   "source": [
    "%matplotlib inline\n",
    "import matplotlib\n",
    "import matplotlib.pyplot as plt\n",
    "import io, base64, os, json, re \n",
    "import pandas as pd\n",
    "import numpy as np\n",
    "import datetime\n",
    "from random import randint\n",
    "from sklearn.metrics import confusion_matrix"
   ]
  },
  {
   "cell_type": "code",
   "execution_count": 2,
   "id": "01500875",
   "metadata": {},
   "outputs": [
    {
     "data": {
      "text/html": [
       "<div>\n",
       "<style scoped>\n",
       "    .dataframe tbody tr th:only-of-type {\n",
       "        vertical-align: middle;\n",
       "    }\n",
       "\n",
       "    .dataframe tbody tr th {\n",
       "        vertical-align: top;\n",
       "    }\n",
       "\n",
       "    .dataframe thead th {\n",
       "        text-align: right;\n",
       "    }\n",
       "</style>\n",
       "<table border=\"1\" class=\"dataframe\">\n",
       "  <thead>\n",
       "    <tr style=\"text-align: right;\">\n",
       "      <th></th>\n",
       "      <th>Date</th>\n",
       "      <th>Open</th>\n",
       "      <th>High</th>\n",
       "      <th>Low</th>\n",
       "      <th>Close</th>\n",
       "      <th>Adj Close</th>\n",
       "      <th>Volume</th>\n",
       "    </tr>\n",
       "  </thead>\n",
       "  <tbody>\n",
       "    <tr>\n",
       "      <th>20593</th>\n",
       "      <td>2010-01-04</td>\n",
       "      <td>1116.560059</td>\n",
       "      <td>1133.869995</td>\n",
       "      <td>1116.560059</td>\n",
       "      <td>1132.989990</td>\n",
       "      <td>1132.989990</td>\n",
       "      <td>3991400000</td>\n",
       "    </tr>\n",
       "    <tr>\n",
       "      <th>20594</th>\n",
       "      <td>2010-01-05</td>\n",
       "      <td>1132.660034</td>\n",
       "      <td>1136.630005</td>\n",
       "      <td>1129.660034</td>\n",
       "      <td>1136.520020</td>\n",
       "      <td>1136.520020</td>\n",
       "      <td>2491020000</td>\n",
       "    </tr>\n",
       "    <tr>\n",
       "      <th>20595</th>\n",
       "      <td>2010-01-06</td>\n",
       "      <td>1135.709961</td>\n",
       "      <td>1139.189941</td>\n",
       "      <td>1133.949951</td>\n",
       "      <td>1137.140015</td>\n",
       "      <td>1137.140015</td>\n",
       "      <td>4972660000</td>\n",
       "    </tr>\n",
       "    <tr>\n",
       "      <th>20596</th>\n",
       "      <td>2010-01-07</td>\n",
       "      <td>1136.270020</td>\n",
       "      <td>1142.459961</td>\n",
       "      <td>1131.319946</td>\n",
       "      <td>1141.689941</td>\n",
       "      <td>1141.689941</td>\n",
       "      <td>5270680000</td>\n",
       "    </tr>\n",
       "    <tr>\n",
       "      <th>20597</th>\n",
       "      <td>2010-01-08</td>\n",
       "      <td>1140.520020</td>\n",
       "      <td>1145.390015</td>\n",
       "      <td>1136.219971</td>\n",
       "      <td>1144.979980</td>\n",
       "      <td>1144.979980</td>\n",
       "      <td>4389590000</td>\n",
       "    </tr>\n",
       "  </tbody>\n",
       "</table>\n",
       "</div>"
      ],
      "text/plain": [
       "            Date         Open         High          Low        Close  \\\n",
       "20593 2010-01-04  1116.560059  1133.869995  1116.560059  1132.989990   \n",
       "20594 2010-01-05  1132.660034  1136.630005  1129.660034  1136.520020   \n",
       "20595 2010-01-06  1135.709961  1139.189941  1133.949951  1137.140015   \n",
       "20596 2010-01-07  1136.270020  1142.459961  1131.319946  1141.689941   \n",
       "20597 2010-01-08  1140.520020  1145.390015  1136.219971  1144.979980   \n",
       "\n",
       "         Adj Close      Volume  \n",
       "20593  1132.989990  3991400000  \n",
       "20594  1136.520020  2491020000  \n",
       "20595  1137.140015  4972660000  \n",
       "20596  1141.689941  5270680000  \n",
       "20597  1144.979980  4389590000  "
      ]
     },
     "execution_count": 2,
     "metadata": {},
     "output_type": "execute_result"
    }
   ],
   "source": [
    "gspc_df = pd.read_csv('SPX.csv')\n",
    "gspc_df['Date'] = pd.to_datetime(gspc_df['Date'])\n",
    "\n",
    "cut_off_date = '2010-01-01' \n",
    "gspc_df = gspc_df[gspc_df['Date'] >= cut_off_date]\n",
    "\n",
    "\n",
    "gspc_df.head()"
   ]
  },
  {
   "cell_type": "code",
   "execution_count": 3,
   "id": "fe957027",
   "metadata": {},
   "outputs": [
    {
     "data": {
      "text/plain": [
       "<AxesSubplot:>"
      ]
     },
     "execution_count": 3,
     "metadata": {},
     "output_type": "execute_result"
    },
    {
     "data": {
      "image/png": "[encoded data removed]",
      "text/plain": [
       "<Figure size 432x288 with 1 Axes>"
      ]
     },
     "metadata": {
      "needs_background": "light"
     },
     "output_type": "display_data"
    }
   ],
   "source": [
    "gspc_df.plot.line(y=\"Close\", use_index=True)"
   ]
  },
  {
   "cell_type": "code",
   "execution_count": 4,
   "id": "6e37e78c",
   "metadata": {},
   "outputs": [
    {
     "data": {
      "text/plain": [
       "RandomForestClassifier(min_samples_split=100, random_state=1)"
      ]
     },
     "execution_count": 4,
     "metadata": {},
     "output_type": "execute_result"
    }
   ],
   "source": [
    "gspc_df[\"Tomorrow\"] = gspc_df[\"Close\"].shift(-1)\n",
    "gspc_df[\"Target\"] = (gspc_df[\"Tomorrow\"] > gspc_df[\"Close\"]).astype(int)\n",
    "gspc_df = gspc_df.loc[\"2010-01-01\":].copy()\n",
    "\n",
    "from sklearn.ensemble import RandomForestClassifier\n",
    "\n",
    "model = RandomForestClassifier(n_estimators=100, min_samples_split=100, random_state=1)\n",
    "\n",
    "train = gspc_df.iloc[:-100]\n",
    "test = gspc_df.iloc[-100:]\n",
    "\n",
    "predictors = [\"Close\", \"Volume\", \"Open\", \"High\", \"Low\"]\n",
    "model.fit(train[predictors], train[\"Target\"])"
   ]
  },
  {
   "cell_type": "code",
   "execution_count": 5,
   "id": "a119770f",
   "metadata": {},
   "outputs": [
    {
     "data": {
      "text/plain": [
       "0.6792452830188679"
      ]
     },
     "execution_count": 5,
     "metadata": {},
     "output_type": "execute_result"
    }
   ],
   "source": [
    "from sklearn.metrics import precision_score\n",
    "\n",
    "preds = model.predict(test[predictors])\n",
    "preds = pd.Series(preds, index=test.index)\n",
    "precision_score(test[\"Target\"], preds)"
   ]
  },
  {
   "cell_type": "code",
   "execution_count": 6,
   "id": "3ecaffe8",
   "metadata": {},
   "outputs": [
    {
     "data": {
      "text/plain": [
       "<AxesSubplot:>"
      ]
     },
     "execution_count": 6,
     "metadata": {},
     "output_type": "execute_result"
    },
    {
     "data": {
      "image/png": "[encoded data removed]",
      "text/plain": [
       "<Figure size 432x288 with 1 Axes>"
      ]
     },
     "metadata": {
      "needs_background": "light"
     },
     "output_type": "display_data"
    }
   ],
   "source": [
    "combined = pd.concat([test[\"Target\"], preds], axis=1)\n",
    "combined.plot()"
   ]
  },
  {
   "cell_type": "code",
   "execution_count": 7,
   "id": "ec70527b",
   "metadata": {},
   "outputs": [],
   "source": [
    "def predict(train, test, predictors, model):\n",
    "    model.fit(train[predictors], train[\"Target\"])\n",
    "    preds = model.predict(test[predictors])\n",
    "    preds = pd.Series(preds, index=test.index, name=\"Predictions\")\n",
    "    combined = pd.concat([test[\"Target\"], preds], axis=1)\n",
    "    return combined"
   ]
  },
  {
   "cell_type": "code",
   "execution_count": 8,
   "id": "63488ef2",
   "metadata": {},
   "outputs": [],
   "source": [
    "def backtest(data, model, predictors, start=2500, step=250):\n",
    "    all_predictions = []\n",
    "\n",
    "    for i in range(start, data.shape[0], step):\n",
    "        train = data.iloc[0:i].copy()\n",
    "        test = data.iloc[i:(i+step)].copy()\n",
    "        predictions = predict(train, test, predictors, model)\n",
    "        all_predictions.append(predictions)\n",
    "    \n",
    "    return pd.concat(all_predictions)"
   ]
  },
  {
   "cell_type": "code",
   "execution_count": 9,
   "id": "fd26a2e3",
   "metadata": {},
   "outputs": [
    {
     "data": {
      "text/plain": [
       "0    190\n",
       "1     40\n",
       "Name: Predictions, dtype: int64"
      ]
     },
     "execution_count": 9,
     "metadata": {},
     "output_type": "execute_result"
    }
   ],
   "source": [
    "predictions = backtest(gspc_df, model, predictors)\n",
    "\n",
    "predictions[\"Predictions\"].value_counts()"
   ]
  },
  {
   "cell_type": "code",
   "execution_count": 10,
   "id": "407502da",
   "metadata": {},
   "outputs": [
    {
     "data": {
      "text/plain": [
       "0.575"
      ]
     },
     "execution_count": 10,
     "metadata": {},
     "output_type": "execute_result"
    }
   ],
   "source": [
    "precision_score(predictions[\"Target\"], predictions[\"Predictions\"])"
   ]
  },
  {
   "cell_type": "code",
   "execution_count": 11,
   "id": "0795df24",
   "metadata": {},
   "outputs": [
    {
     "data": {
      "text/plain": [
       "1    0.586957\n",
       "0    0.413043\n",
       "Name: Target, dtype: float64"
      ]
     },
     "execution_count": 11,
     "metadata": {},
     "output_type": "execute_result"
    }
   ],
   "source": [
    "predictions[\"Target\"].value_counts() / predictions.shape[0]"
   ]
  },
  {
   "cell_type": "code",
   "execution_count": 12,
   "id": "0ec503a5",
   "metadata": {},
   "outputs": [],
   "source": [
    "horizons = [2,5,60,250,1000]\n",
    "new_predictors = []\n",
    "\n",
    "for horizon in horizons:\n",
    "    rolling_averages = gspc_df.rolling(horizon).mean()\n",
    "    \n",
    "    ratio_column = f\"Close_Ratio_{horizon}\"\n",
    "    gspc_df[ratio_column] = gspc_df[\"Close\"] / rolling_averages[\"Close\"]\n",
    "    \n",
    "    trend_column = f\"Trend_{horizon}\"\n",
    "    gspc_df[trend_column] = gspc_df.shift(1).rolling(horizon).sum()[\"Target\"]\n",
    "    \n",
    "    new_predictors+= [ratio_column, trend_column]"
   ]
  },
  {
   "cell_type": "code",
   "execution_count": 13,
   "id": "bf5dfbfb",
   "metadata": {},
   "outputs": [
    {
     "data": {
      "text/html": [
       "<div>\n",
       "<style scoped>\n",
       "    .dataframe tbody tr th:only-of-type {\n",
       "        vertical-align: middle;\n",
       "    }\n",
       "\n",
       "    .dataframe tbody tr th {\n",
       "        vertical-align: top;\n",
       "    }\n",
       "\n",
       "    .dataframe thead th {\n",
       "        text-align: right;\n",
       "    }\n",
       "</style>\n",
       "<table border=\"1\" class=\"dataframe\">\n",
       "  <thead>\n",
       "    <tr style=\"text-align: right;\">\n",
       "      <th></th>\n",
       "      <th>Date</th>\n",
       "      <th>Open</th>\n",
       "      <th>High</th>\n",
       "      <th>Low</th>\n",
       "      <th>Close</th>\n",
       "      <th>Adj Close</th>\n",
       "      <th>Volume</th>\n",
       "      <th>Tomorrow</th>\n",
       "      <th>Target</th>\n",
       "      <th>Close_Ratio_2</th>\n",
       "      <th>Trend_2</th>\n",
       "      <th>Close_Ratio_5</th>\n",
       "      <th>Trend_5</th>\n",
       "      <th>Close_Ratio_60</th>\n",
       "      <th>Trend_60</th>\n",
       "      <th>Close_Ratio_250</th>\n",
       "      <th>Trend_250</th>\n",
       "      <th>Close_Ratio_1000</th>\n",
       "      <th>Trend_1000</th>\n",
       "    </tr>\n",
       "  </thead>\n",
       "  <tbody>\n",
       "    <tr>\n",
       "      <th>21593</th>\n",
       "      <td>2013-12-23</td>\n",
       "      <td>1822.920044</td>\n",
       "      <td>1829.750000</td>\n",
       "      <td>1822.920044</td>\n",
       "      <td>1827.989990</td>\n",
       "      <td>1827.989990</td>\n",
       "      <td>2851540000</td>\n",
       "      <td>1833.319946</td>\n",
       "      <td>1</td>\n",
       "      <td>1.002652</td>\n",
       "      <td>2.0</td>\n",
       "      <td>1.010212</td>\n",
       "      <td>3.0</td>\n",
       "      <td>1.037942</td>\n",
       "      <td>33.0</td>\n",
       "      <td>1.116595</td>\n",
       "      <td>145.0</td>\n",
       "      <td>1.348619</td>\n",
       "      <td>557.0</td>\n",
       "    </tr>\n",
       "    <tr>\n",
       "      <th>21594</th>\n",
       "      <td>2013-12-24</td>\n",
       "      <td>1828.020020</td>\n",
       "      <td>1833.319946</td>\n",
       "      <td>1828.020020</td>\n",
       "      <td>1833.319946</td>\n",
       "      <td>1833.319946</td>\n",
       "      <td>1307630000</td>\n",
       "      <td>1842.020020</td>\n",
       "      <td>1</td>\n",
       "      <td>1.001456</td>\n",
       "      <td>2.0</td>\n",
       "      <td>1.007332</td>\n",
       "      <td>4.0</td>\n",
       "      <td>1.039475</td>\n",
       "      <td>34.0</td>\n",
       "      <td>1.118715</td>\n",
       "      <td>146.0</td>\n",
       "      <td>1.351857</td>\n",
       "      <td>557.0</td>\n",
       "    </tr>\n",
       "    <tr>\n",
       "      <th>21595</th>\n",
       "      <td>2013-12-26</td>\n",
       "      <td>1834.959961</td>\n",
       "      <td>1842.839966</td>\n",
       "      <td>1834.959961</td>\n",
       "      <td>1842.020020</td>\n",
       "      <td>1842.020020</td>\n",
       "      <td>1982270000</td>\n",
       "      <td>1841.400024</td>\n",
       "      <td>0</td>\n",
       "      <td>1.002367</td>\n",
       "      <td>2.0</td>\n",
       "      <td>1.008635</td>\n",
       "      <td>4.0</td>\n",
       "      <td>1.042959</td>\n",
       "      <td>34.0</td>\n",
       "      <td>1.122820</td>\n",
       "      <td>147.0</td>\n",
       "      <td>1.357566</td>\n",
       "      <td>557.0</td>\n",
       "    </tr>\n",
       "    <tr>\n",
       "      <th>21596</th>\n",
       "      <td>2013-12-27</td>\n",
       "      <td>1842.969971</td>\n",
       "      <td>1844.890015</td>\n",
       "      <td>1839.810059</td>\n",
       "      <td>1841.400024</td>\n",
       "      <td>1841.400024</td>\n",
       "      <td>2052920000</td>\n",
       "      <td>1841.069946</td>\n",
       "      <td>0</td>\n",
       "      <td>0.999832</td>\n",
       "      <td>1.0</td>\n",
       "      <td>1.004796</td>\n",
       "      <td>4.0</td>\n",
       "      <td>1.041158</td>\n",
       "      <td>34.0</td>\n",
       "      <td>1.121306</td>\n",
       "      <td>146.0</td>\n",
       "      <td>1.356410</td>\n",
       "      <td>556.0</td>\n",
       "    </tr>\n",
       "    <tr>\n",
       "      <th>21597</th>\n",
       "      <td>2013-12-30</td>\n",
       "      <td>1841.469971</td>\n",
       "      <td>1842.469971</td>\n",
       "      <td>1838.770020</td>\n",
       "      <td>1841.069946</td>\n",
       "      <td>1841.069946</td>\n",
       "      <td>2293860000</td>\n",
       "      <td>1848.359985</td>\n",
       "      <td>1</td>\n",
       "      <td>0.999910</td>\n",
       "      <td>0.0</td>\n",
       "      <td>1.002128</td>\n",
       "      <td>3.0</td>\n",
       "      <td>1.039381</td>\n",
       "      <td>34.0</td>\n",
       "      <td>1.120072</td>\n",
       "      <td>145.0</td>\n",
       "      <td>1.355472</td>\n",
       "      <td>555.0</td>\n",
       "    </tr>\n",
       "  </tbody>\n",
       "</table>\n",
       "</div>"
      ],
      "text/plain": [
       "            Date         Open         High          Low        Close  \\\n",
       "21593 2013-12-23  1822.920044  1829.750000  1822.920044  1827.989990   \n",
       "21594 2013-12-24  1828.020020  1833.319946  1828.020020  1833.319946   \n",
       "21595 2013-12-26  1834.959961  1842.839966  1834.959961  1842.020020   \n",
       "21596 2013-12-27  1842.969971  1844.890015  1839.810059  1841.400024   \n",
       "21597 2013-12-30  1841.469971  1842.469971  1838.770020  1841.069946   \n",
       "\n",
       "         Adj Close      Volume     Tomorrow  Target  Close_Ratio_2  Trend_2  \\\n",
       "21593  1827.989990  2851540000  1833.319946       1       1.002652      2.0   \n",
       "21594  1833.319946  1307630000  1842.020020       1       1.001456      2.0   \n",
       "21595  1842.020020  1982270000  1841.400024       0       1.002367      2.0   \n",
       "21596  1841.400024  2052920000  1841.069946       0       0.999832      1.0   \n",
       "21597  1841.069946  2293860000  1848.359985       1       0.999910      0.0   \n",
       "\n",
       "       Close_Ratio_5  Trend_5  Close_Ratio_60  Trend_60  Close_Ratio_250  \\\n",
       "21593       1.010212      3.0        1.037942      33.0         1.116595   \n",
       "21594       1.007332      4.0        1.039475      34.0         1.118715   \n",
       "21595       1.008635      4.0        1.042959      34.0         1.122820   \n",
       "21596       1.004796      4.0        1.041158      34.0         1.121306   \n",
       "21597       1.002128      3.0        1.039381      34.0         1.120072   \n",
       "\n",
       "       Trend_250  Close_Ratio_1000  Trend_1000  \n",
       "21593      145.0          1.348619       557.0  \n",
       "21594      146.0          1.351857       557.0  \n",
       "21595      147.0          1.357566       557.0  \n",
       "21596      146.0          1.356410       556.0  \n",
       "21597      145.0          1.355472       555.0  "
      ]
     },
     "execution_count": 13,
     "metadata": {},
     "output_type": "execute_result"
    }
   ],
   "source": [
    "gspc_df = gspc_df.dropna(subset=gspc_df.columns[gspc_df.columns != \"Tomorrow\"])\n",
    "gspc_df.head()"
   ]
  },
  {
   "cell_type": "code",
   "execution_count": 14,
   "id": "22c13b86",
   "metadata": {},
   "outputs": [],
   "source": [
    "model = RandomForestClassifier(n_estimators=200, min_samples_split=50, random_state=1)\n",
    "\n",
    "def predict(train, test, predictors, model):\n",
    "    model.fit(train[predictors], train[\"Target\"])\n",
    "    preds = model.predict_proba(test[predictors])[:,1]\n",
    "    preds[preds >=.6] = 1\n",
    "    preds[preds <.6] = 0\n",
    "    preds = pd.Series(preds, index=test.index, name=\"Predictions\")\n",
    "    combined = pd.concat([test[\"Target\"], preds], axis=1)\n",
    "    return combined"
   ]
  },
  {
   "cell_type": "code",
   "execution_count": 19,
   "id": "afa92692",
   "metadata": {},
   "outputs": [
    {
     "data": {
      "text/plain": [
       "0    190\n",
       "1     40\n",
       "Name: Predictions, dtype: int64"
      ]
     },
     "execution_count": 19,
     "metadata": {},
     "output_type": "execute_result"
    }
   ],
   "source": [
    "predictions[\"Predictions\"].value_counts()"
   ]
  },
  {
   "cell_type": "code",
   "execution_count": 20,
   "id": "74355786",
   "metadata": {},
   "outputs": [
    {
     "data": {
      "text/plain": [
       "0.575"
      ]
     },
     "execution_count": 20,
     "metadata": {},
     "output_type": "execute_result"
    }
   ],
   "source": [
    "precision_score(predictions[\"Target\"], predictions[\"Predictions\"])"
   ]
  },
  {
   "cell_type": "code",
   "execution_count": 21,
   "id": "0f6cfd07",
   "metadata": {},
   "outputs": [
    {
     "data": {
      "text/plain": [
       "1    0.586957\n",
       "0    0.413043\n",
       "Name: Target, dtype: float64"
      ]
     },
     "execution_count": 21,
     "metadata": {},
     "output_type": "execute_result"
    }
   ],
   "source": [
    "predictions[\"Target\"].value_counts() / predictions.shape[0]"
   ]
  },
  {
   "cell_type": "code",
   "execution_count": 23,
   "id": "5d40d732",
   "metadata": {},
   "outputs": [
    {
     "data": {
      "text/plain": [
       "<AxesSubplot:>"
      ]
     },
     "execution_count": 23,
     "metadata": {},
     "output_type": "execute_result"
    },
    {
     "data": {
      "image/png": "[encoded data removed]",
      "text/plain": [
       "<Figure size 432x288 with 1 Axes>"
      ]
     },
     "metadata": {
      "needs_background": "light"
     },
     "output_type": "display_data"
    }
   ],
   "source": [
    "predictions.plot.line(y=\"Predictions\", use_index=True)"
   ]
  },
  {
   "cell_type": "code",
   "execution_count": null,
   "id": "281d8b18",
   "metadata": {},
   "outputs": [],
   "source": []
  },
  {
   "cell_type": "code",
   "execution_count": null,
   "id": "cd5b22fa",
   "metadata": {},
   "outputs": [],
   "source": []
  },
  {
   "cell_type": "code",
   "execution_count": null,
   "id": "ebe77b01",
   "metadata": {},
   "outputs": [],
   "source": []
  },
  {
   "cell_type": "code",
   "execution_count": null,
   "id": "9922be83",
   "metadata": {},
   "outputs": [],
   "source": []
  },
  {
   "cell_type": "code",
   "execution_count": null,
   "id": "fb23ec51",
   "metadata": {},
   "outputs": [],
   "source": []
  },
  {
   "cell_type": "code",
   "execution_count": null,
   "id": "7829d643",
   "metadata": {},
   "outputs": [],
   "source": []
  },
  {
   "cell_type": "code",
   "execution_count": null,
   "id": "84eda713",
   "metadata": {},
   "outputs": [],
   "source": []
  },
  {
   "cell_type": "code",
   "execution_count": null,
   "id": "f2220a7d",
   "metadata": {},
   "outputs": [],
   "source": []
  },
  {
   "cell_type": "code",
   "execution_count": null,
   "id": "dc70a93a",
   "metadata": {},
   "outputs": [],
   "source": []
  },
  {
   "cell_type": "code",
   "execution_count": null,
   "id": "f4473eab",
   "metadata": {},
   "outputs": [],
   "source": []
  },
  {
   "cell_type": "code",
   "execution_count": null,
   "id": "43e92202",
   "metadata": {},
   "outputs": [],
   "source": []
  },
  {
   "cell_type": "code",
   "execution_count": null,
   "id": "a15fc124",
   "metadata": {},
   "outputs": [],
   "source": []
  },
  {
   "cell_type": "code",
   "execution_count": null,
   "id": "5fcf6750",
   "metadata": {},
   "outputs": [],
   "source": []
  },
  {
   "cell_type": "code",
   "execution_count": null,
   "id": "f359424c",
   "metadata": {},
   "outputs": [],
   "source": []
  }
 ],
 "metadata": {
  "kernelspec": {
   "display_name": "Python 3 (ipykernel)",
   "language": "python",
   "name": "python3"
  },
  "language_info": {
   "codemirror_mode": {
    "name": "ipython",
    "version": 3
   },
   "file_extension": ".py",
   "mimetype": "text/x-python",
   "name": "python",
   "nbconvert_exporter": "python",
   "pygments_lexer": "ipython3",
   "version": "3.9.7"
  }
 },
 "nbformat": 4,
 "nbformat_minor": 5
}
